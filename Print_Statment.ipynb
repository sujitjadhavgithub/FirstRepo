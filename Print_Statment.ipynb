{
 "cells": [
  {
   "cell_type": "markdown",
   "id": "41804fb2",
   "metadata": {},
   "source": [
    "## Print statement basics\n",
    "for printing any values or text"
   ]
  },
  {
   "cell_type": "code",
   "execution_count": 2,
   "id": "eb6d4021",
   "metadata": {},
   "outputs": [
    {
     "name": "stdout",
     "output_type": "stream",
     "text": [
      "Hi All Welcome to Data Science Class!\n"
     ]
    }
   ],
   "source": [
    "print('Hi All Welcome to Data Science Class!')"
   ]
  },
  {
   "cell_type": "code",
   "execution_count": 3,
   "id": "b522ff6a",
   "metadata": {},
   "outputs": [
    {
     "name": "stdout",
     "output_type": "stream",
     "text": [
      "Statement1\n",
      "Statement2\n"
     ]
    }
   ],
   "source": [
    "print('Statement1')\n",
    "print('Statement2')"
   ]
  },
  {
   "cell_type": "markdown",
   "id": "dbf4f1f3",
   "metadata": {},
   "source": [
    "## \\n - for new line in print"
   ]
  },
  {
   "cell_type": "code",
   "execution_count": 1,
   "id": "dc790267",
   "metadata": {},
   "outputs": [
    {
     "name": "stdout",
     "output_type": "stream",
     "text": [
      "sujit \n",
      "Sujit1\n"
     ]
    }
   ],
   "source": [
    "print('Sujit','\\nSujit1') # \\n is userd to print output in next line"
   ]
  },
  {
   "cell_type": "markdown",
   "id": "0b653ea6",
   "metadata": {},
   "source": [
    "## \\t - for multiple spaces (Pressing Tab)"
   ]
  },
  {
   "cell_type": "code",
   "execution_count": 4,
   "id": "ec8d7e45",
   "metadata": {},
   "outputs": [
    {
     "name": "stdout",
     "output_type": "stream",
     "text": [
      "Sujit \tSujit1\n"
     ]
    }
   ],
   "source": [
    "print('Sujit','\\tSujit1')"
   ]
  },
  {
   "cell_type": "markdown",
   "id": "eb7ce0a0",
   "metadata": {},
   "source": [
    "## Need of print statements"
   ]
  },
  {
   "cell_type": "code",
   "execution_count": 5,
   "id": "cefbea37",
   "metadata": {},
   "outputs": [
    {
     "data": {
      "text/plain": [
       "0.6764705882352942"
      ]
     },
     "execution_count": 5,
     "metadata": {},
     "output_type": "execute_result"
    }
   ],
   "source": [
    "a = 23\n",
    "b = 34\n",
    "a+b\n",
    "a-b\n",
    "a*b\n",
    "a/b  # this code block will give me only last statment result"
   ]
  },
  {
   "cell_type": "code",
   "execution_count": 8,
   "id": "259461ed",
   "metadata": {},
   "outputs": [
    {
     "name": "stdout",
     "output_type": "stream",
     "text": [
      "Addition is :  57\n",
      "Substraction is :  -11\n",
      "Multiplication is :  782\n",
      "Division is  :  0.6764705882352942\n"
     ]
    }
   ],
   "source": [
    "print('Addition is : ',a+b)\n",
    "print('Substraction is : ',a-b)\n",
    "print('Multiplication is : ',a*b)\n",
    "print('Division is  : ',a/b)"
   ]
  },
  {
   "cell_type": "markdown",
   "id": "1f969ba9",
   "metadata": {},
   "source": [
    "## Variable Substitution\n",
    "\n",
    "Hi ______, Your mobile number ______ is due for recharge.\n",
    "Your current balance is ____ INR\n",
    "\n",
    "1. Comma Method\n",
    "2. F string\n",
    "3. .format() method"
   ]
  },
  {
   "cell_type": "markdown",
   "id": "92a491d0",
   "metadata": {},
   "source": [
    "## Substitute variables using below methods\n",
    "## 1. Comma method"
   ]
  },
  {
   "cell_type": "code",
   "execution_count": 2,
   "id": "42a6a2dd",
   "metadata": {},
   "outputs": [
    {
     "name": "stdout",
     "output_type": "stream",
     "text": [
      "Hi Sujit Your Mobile number 9876543210 is due for recharge.\n",
      "Your current balance is 0.99 INR\n"
     ]
    }
   ],
   "source": [
    "# Variables\n",
    "name = 'Sujit'\n",
    "mob = 9876543210\n",
    "bal = 0.99\n",
    "\n",
    "# Variable substitution in print statement\n",
    "print(\"Hi\",name,\"Your Mobile number\",mob,\"is due for recharge.\")\n",
    "print(\"Your current balance is\",bal,\"INR\")"
   ]
  },
  {
   "cell_type": "code",
   "execution_count": 4,
   "id": "aba47f98",
   "metadata": {},
   "outputs": [
    {
     "name": "stdout",
     "output_type": "stream",
     "text": [
      "Hi Sujit Your mobile number 9876543210 is due for recharge\n",
      "Your current balance is 0.99 INR\n"
     ]
    }
   ],
   "source": [
    "print('Hi',name,'Your mobile number',mob,'is due for recharge\\nYour current balance is',bal,'INR')#Singl and double quote is fine"
   ]
  },
  {
   "cell_type": "markdown",
   "id": "3cdcd707",
   "metadata": {},
   "source": [
    "## 2. f String (f- format)"
   ]
  },
  {
   "cell_type": "code",
   "execution_count": 12,
   "id": "9bda80d7",
   "metadata": {},
   "outputs": [
    {
     "name": "stdout",
     "output_type": "stream",
     "text": [
      "Hi Sujit,Your mobile number 1234567890 is due for recharge\n",
      "Your current balance is 0.1 INR\n"
     ]
    }
   ],
   "source": [
    "name1 = 'Sujit'\n",
    "mob1 = 1234567890\n",
    "bal1 = 0.11\n",
    "\n",
    "print(f'Hi {name1},Your mobile number {mob1} is due for recharge\\nYour current balance is {bal1:.1f} INR')"
   ]
  },
  {
   "cell_type": "code",
   "execution_count": 13,
   "id": "98fd7d90",
   "metadata": {},
   "outputs": [
    {
     "name": "stdout",
     "output_type": "stream",
     "text": [
      "Statement1\\nStatement2\n"
     ]
    }
   ],
   "source": [
    "print(r'Statement1\\nStatement2') # r stands for row string. it will return all data inside quote "
   ]
  },
  {
   "cell_type": "markdown",
   "id": "08bb1c42",
   "metadata": {},
   "source": [
    "## 3. .format()\n"
   ]
  },
  {
   "cell_type": "code",
   "execution_count": 18,
   "id": "b2b27041",
   "metadata": {},
   "outputs": [
    {
     "name": "stdout",
     "output_type": "stream",
     "text": [
      "Hi Priyanka , Your mobile number 124124134 is due for recharge\n",
      "Current balance is 0.830\n"
     ]
    }
   ],
   "source": [
    "name2 = 'Priyanka'\n",
    "mob2 = 124124134\n",
    "bal2 = 0.83000\n",
    "\n",
    "print('Hi {} , Your mobile number {} is due for recharge'.format(name2, mob2))\n",
    "print('Current balance is {:.3f}'.format(bal2))"
   ]
  },
  {
   "cell_type": "code",
   "execution_count": 22,
   "id": "db1ef0f3",
   "metadata": {},
   "outputs": [
    {
     "name": "stdout",
     "output_type": "stream",
     "text": [
      "Hi Priyanka, Your mobile number 124124134 is due for recharge\n",
      "Current balance is 0.83 INR\n"
     ]
    }
   ],
   "source": [
    "print('Hi {a}, Your mobile number {b} is due for recharge'.format(b=mob2, a=name2))\n",
    "print('Current balance is {c} INR'.format(c=bal2))"
   ]
  },
  {
   "cell_type": "code",
   "execution_count": 23,
   "id": "05786652",
   "metadata": {},
   "outputs": [
    {
     "name": "stdout",
     "output_type": "stream",
     "text": [
      "Hi 124124134 , Your mobile number Priyanka is due for recharge\n",
      "Current balance is 0.830\n"
     ]
    }
   ],
   "source": [
    "print('Hi {} , Your mobile number {} is due for recharge'.format(mob2, name2))\n",
    "print('Current balance is {:.3f}'.format(bal2))"
   ]
  },
  {
   "cell_type": "markdown",
   "id": "24861229",
   "metadata": {},
   "source": [
    "## Application of varible substitution\n",
    "Calculate simple intrest and amount"
   ]
  },
  {
   "cell_type": "code",
   "execution_count": 24,
   "id": "efb0c33f",
   "metadata": {},
   "outputs": [
    {
     "name": "stdout",
     "output_type": "stream",
     "text": [
      "Principal = 1000000 INR\n",
      "Period = 5 Years\n",
      "Rate of Intrest = 6 %p.a.\n",
      "\n",
      "==================================================================\n",
      "\n",
      "Simple Intrest = 300000.00 INR\n",
      "Final Amount = 1300000.00 INR\n"
     ]
    }
   ],
   "source": [
    "#inputes\n",
    "Principle_Amount = 1000000\n",
    "No_of_Years = 5\n",
    "Rate_of_Intrest = 6\n",
    "\n",
    "# Calculating Simple Intrest\n",
    "\n",
    "Simple_Intrest = (Principle_Amount*No_of_Years*Rate_of_Intrest)/100\n",
    "Final_Amount = Principle_Amount + Simple_Intrest\n",
    "\n",
    "\n",
    "# Print the results\n",
    "print(f'Principal = {Principle_Amount} INR\\nPeriod = {No_of_Years} Years\\nRate of Intrest = {Rate_of_Intrest} %p.a.')\n",
    "print('\\n==================================================================\\n')\n",
    "print(f'Simple Intrest = {Simple_Intrest:.2f} INR')\n",
    "print(f'Final Amount = {Final_Amount:.2f} INR')"
   ]
  },
  {
   "cell_type": "markdown",
   "id": "d7ac3702",
   "metadata": {},
   "source": [
    "## Calculate Compound Intrest\n",
    "\n",
    "$A = P * (1+R)^N$"
   ]
  },
  {
   "cell_type": "code",
   "execution_count": 27,
   "id": "051e2a76",
   "metadata": {},
   "outputs": [
    {
     "data": {
      "text/plain": [
       "8"
      ]
     },
     "execution_count": 27,
     "metadata": {},
     "output_type": "execute_result"
    }
   ],
   "source": [
    "2**3"
   ]
  },
  {
   "cell_type": "code",
   "execution_count": 28,
   "id": "310e8ec2",
   "metadata": {},
   "outputs": [
    {
     "data": {
      "text/plain": [
       "4"
      ]
     },
     "execution_count": 28,
     "metadata": {},
     "output_type": "execute_result"
    }
   ],
   "source": [
    "2**2"
   ]
  },
  {
   "cell_type": "code",
   "execution_count": 29,
   "id": "8359a327",
   "metadata": {},
   "outputs": [
    {
     "data": {
      "text/plain": [
       "81"
      ]
     },
     "execution_count": 29,
     "metadata": {},
     "output_type": "execute_result"
    }
   ],
   "source": [
    "3**4"
   ]
  },
  {
   "cell_type": "code",
   "execution_count": 31,
   "id": "ef8f51c3",
   "metadata": {},
   "outputs": [
    {
     "data": {
      "text/plain": [
       "2.0"
      ]
     },
     "execution_count": 31,
     "metadata": {},
     "output_type": "execute_result"
    }
   ],
   "source": [
    "4**(1/2)"
   ]
  },
  {
   "cell_type": "code",
   "execution_count": 32,
   "id": "5406e5c3",
   "metadata": {},
   "outputs": [
    {
     "data": {
      "text/plain": [
       "1.3333333333333333"
      ]
     },
     "execution_count": 32,
     "metadata": {},
     "output_type": "execute_result"
    }
   ],
   "source": [
    "4*(1/3)"
   ]
  },
  {
   "cell_type": "code",
   "execution_count": 38,
   "id": "8e6ee264",
   "metadata": {},
   "outputs": [
    {
     "name": "stdout",
     "output_type": "stream",
     "text": [
      "Principal = 100 INR\n",
      "Period = 5 Years\n",
      "Rate of Intrest = 6 % p.a.\n",
      "\n",
      "=====================================================================\n",
      "\n",
      "Compound Intrest = 33.82 INR\n",
      "Final Amount = 133.82 INR\n"
     ]
    }
   ],
   "source": [
    "# Input Variables\n",
    "Principle_Amount1 = 100\n",
    "No_of_Years1 = 5\n",
    "Intrest_Rate1 = 6\n",
    "r = Intrest_Rate1/100\n",
    "\n",
    "# Output\n",
    "Final_Amount1 = Principle_Amount1*((1+r)**No_of_Years1)\n",
    "Compound_Intrest1 = Final_Amount1-Principle_Amount1\n",
    "\n",
    "# Print the results\n",
    "print(f'Principal = {Principle_Amount1} INR\\nPeriod = {No_of_Years1} Years\\nRate of Intrest = {Intrest_Rate1} % p.a.')\n",
    "print('\\n=====================================================================\\n')\n",
    "print(f'Compound Intrest = {Compound_Intrest1:.2f} INR')\n",
    "print(f'Final Amount = {Final_Amount1:.2f} INR')"
   ]
  }
 ],
 "metadata": {
  "kernelspec": {
   "display_name": "Python 3 (ipykernel)",
   "language": "python",
   "name": "python3"
  },
  "language_info": {
   "codemirror_mode": {
    "name": "ipython",
    "version": 3
   },
   "file_extension": ".py",
   "mimetype": "text/x-python",
   "name": "python",
   "nbconvert_exporter": "python",
   "pygments_lexer": "ipython3",
   "version": "3.11.4"
  }
 },
 "nbformat": 4,
 "nbformat_minor": 5
}
